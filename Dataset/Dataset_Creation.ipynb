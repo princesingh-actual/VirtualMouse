{
 "cells": [
  {
   "cell_type": "code",
   "execution_count": 3,
   "metadata": {},
   "outputs": [],
   "source": [
    "import cv2\n",
    "char=\"0123456789ABCDEFGHIJKLMNOPQRSTUVWXYZ$\"\n",
    "for i in char:\n",
    "    path=\"C:/Users/Prince/Pictures/Camera Roll/\"+\"dw\"+\".mp4\"\n",
    "    vid = cv2.VideoCapture(path)\n",
    "    d = 0\n",
    "    ret, frame = vid.read()\n",
    "\n",
    "\n",
    "    while ret:\n",
    "    \n",
    "        ret, frame = vid.read() \n",
    "        filename = \"C:/Users/Prince/Desktop/team_light/Lift_operation/Dataset/D\"+\"/file\"+str(d)+\".jpg\"\n",
    "        try:\n",
    "            cv2.imwrite(filename, frame)\n",
    "        except:\n",
    "            pass\n",
    "   \n",
    "    #cv2.imshow(\"img\",frame)\n",
    "        d+=1\n",
    "        if not ret:\n",
    "            break\n",
    "\n",
    "\n",
    "        key=cv2.waitKey(10)\n",
    "        if key==ord('q'):\n",
    "            break\n",
    "    break\n",
    "    cv2.destroyAllWindows()"
   ]
  },
  {
   "cell_type": "code",
   "execution_count": null,
   "metadata": {},
   "outputs": [],
   "source": []
  }
 ],
 "metadata": {
  "kernelspec": {
   "display_name": "Python 3",
   "language": "python",
   "name": "python3"
  },
  "language_info": {
   "codemirror_mode": {
    "name": "ipython",
    "version": 3
   },
   "file_extension": ".py",
   "mimetype": "text/x-python",
   "name": "python",
   "nbconvert_exporter": "python",
   "pygments_lexer": "ipython3",
   "version": "3.7.9"
  }
 },
 "nbformat": 4,
 "nbformat_minor": 4
}
