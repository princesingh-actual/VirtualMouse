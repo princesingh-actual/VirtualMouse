{
 "cells": [
  {
   "cell_type": "code",
   "execution_count": 1,
   "metadata": {},
   "outputs": [
    {
     "name": "stderr",
     "output_type": "stream",
     "text": [
      "Using TensorFlow backend.\n"
     ]
    }
   ],
   "source": [
    "import pandas as pd\n",
    "import numpy as np\n",
    "import keras\n",
    "from keras.models import Sequential\n",
    "from keras.layers import Dense, Conv1D , MaxPooling1D , Flatten , Dropout , BatchNormalization\n",
    "from sklearn.preprocessing import LabelBinarizer"
   ]
  },
  {
   "cell_type": "code",
   "execution_count": 2,
   "metadata": {},
   "outputs": [
    {
     "data": {
      "text/html": [
       "<div>\n",
       "<style scoped>\n",
       "    .dataframe tbody tr th:only-of-type {\n",
       "        vertical-align: middle;\n",
       "    }\n",
       "\n",
       "    .dataframe tbody tr th {\n",
       "        vertical-align: top;\n",
       "    }\n",
       "\n",
       "    .dataframe thead th {\n",
       "        text-align: right;\n",
       "    }\n",
       "</style>\n",
       "<table border=\"1\" class=\"dataframe\">\n",
       "  <thead>\n",
       "    <tr style=\"text-align: right;\">\n",
       "      <th></th>\n",
       "      <th>0X</th>\n",
       "      <th>0Y</th>\n",
       "      <th>0Z</th>\n",
       "      <th>1X</th>\n",
       "      <th>1Y</th>\n",
       "      <th>1Z</th>\n",
       "      <th>2X</th>\n",
       "      <th>2Y</th>\n",
       "      <th>2Z</th>\n",
       "      <th>3X</th>\n",
       "      <th>...</th>\n",
       "      <th>18X</th>\n",
       "      <th>18Y</th>\n",
       "      <th>18Z</th>\n",
       "      <th>19X</th>\n",
       "      <th>19Y</th>\n",
       "      <th>19Z</th>\n",
       "      <th>20X</th>\n",
       "      <th>20Y</th>\n",
       "      <th>20Z</th>\n",
       "      <th>Target</th>\n",
       "    </tr>\n",
       "  </thead>\n",
       "  <tbody>\n",
       "    <tr>\n",
       "      <th>0</th>\n",
       "      <td>0</td>\n",
       "      <td>0</td>\n",
       "      <td>0</td>\n",
       "      <td>-0.000214</td>\n",
       "      <td>-0.058624</td>\n",
       "      <td>-0.005439</td>\n",
       "      <td>0.019046</td>\n",
       "      <td>-0.107819</td>\n",
       "      <td>-0.014893</td>\n",
       "      <td>0.042369</td>\n",
       "      <td>...</td>\n",
       "      <td>0.067047</td>\n",
       "      <td>-0.026790</td>\n",
       "      <td>-0.039557</td>\n",
       "      <td>0.051269</td>\n",
       "      <td>-0.022757</td>\n",
       "      <td>-0.033340</td>\n",
       "      <td>0.041671</td>\n",
       "      <td>-0.014572</td>\n",
       "      <td>-0.023431</td>\n",
       "      <td>0</td>\n",
       "    </tr>\n",
       "    <tr>\n",
       "      <th>1</th>\n",
       "      <td>0</td>\n",
       "      <td>0</td>\n",
       "      <td>0</td>\n",
       "      <td>-0.001391</td>\n",
       "      <td>-0.060643</td>\n",
       "      <td>-0.004128</td>\n",
       "      <td>0.017710</td>\n",
       "      <td>-0.109621</td>\n",
       "      <td>-0.012365</td>\n",
       "      <td>0.039954</td>\n",
       "      <td>...</td>\n",
       "      <td>0.063500</td>\n",
       "      <td>-0.028476</td>\n",
       "      <td>-0.043904</td>\n",
       "      <td>0.048176</td>\n",
       "      <td>-0.024836</td>\n",
       "      <td>-0.041285</td>\n",
       "      <td>0.039364</td>\n",
       "      <td>-0.015466</td>\n",
       "      <td>-0.033771</td>\n",
       "      <td>0</td>\n",
       "    </tr>\n",
       "    <tr>\n",
       "      <th>2</th>\n",
       "      <td>0</td>\n",
       "      <td>0</td>\n",
       "      <td>0</td>\n",
       "      <td>-0.001036</td>\n",
       "      <td>-0.059302</td>\n",
       "      <td>-0.004734</td>\n",
       "      <td>0.018886</td>\n",
       "      <td>-0.109079</td>\n",
       "      <td>-0.011933</td>\n",
       "      <td>0.040734</td>\n",
       "      <td>...</td>\n",
       "      <td>0.062321</td>\n",
       "      <td>-0.024297</td>\n",
       "      <td>-0.044743</td>\n",
       "      <td>0.046756</td>\n",
       "      <td>-0.020573</td>\n",
       "      <td>-0.041916</td>\n",
       "      <td>0.038673</td>\n",
       "      <td>-0.013439</td>\n",
       "      <td>-0.033861</td>\n",
       "      <td>0</td>\n",
       "    </tr>\n",
       "    <tr>\n",
       "      <th>3</th>\n",
       "      <td>0</td>\n",
       "      <td>0</td>\n",
       "      <td>0</td>\n",
       "      <td>-0.000887</td>\n",
       "      <td>-0.062005</td>\n",
       "      <td>-0.010443</td>\n",
       "      <td>0.019801</td>\n",
       "      <td>-0.115434</td>\n",
       "      <td>-0.019250</td>\n",
       "      <td>0.043068</td>\n",
       "      <td>...</td>\n",
       "      <td>0.069431</td>\n",
       "      <td>-0.020624</td>\n",
       "      <td>-0.055275</td>\n",
       "      <td>0.050557</td>\n",
       "      <td>-0.015958</td>\n",
       "      <td>-0.054195</td>\n",
       "      <td>0.037523</td>\n",
       "      <td>-0.006201</td>\n",
       "      <td>-0.043700</td>\n",
       "      <td>0</td>\n",
       "    </tr>\n",
       "    <tr>\n",
       "      <th>4</th>\n",
       "      <td>0</td>\n",
       "      <td>0</td>\n",
       "      <td>0</td>\n",
       "      <td>0.016177</td>\n",
       "      <td>-0.041145</td>\n",
       "      <td>-0.004947</td>\n",
       "      <td>0.030724</td>\n",
       "      <td>-0.071400</td>\n",
       "      <td>-0.017324</td>\n",
       "      <td>0.043469</td>\n",
       "      <td>...</td>\n",
       "      <td>-0.034352</td>\n",
       "      <td>-0.105367</td>\n",
       "      <td>-0.035811</td>\n",
       "      <td>-0.031043</td>\n",
       "      <td>-0.110535</td>\n",
       "      <td>-0.034749</td>\n",
       "      <td>-0.025041</td>\n",
       "      <td>-0.108211</td>\n",
       "      <td>-0.031372</td>\n",
       "      <td>0</td>\n",
       "    </tr>\n",
       "  </tbody>\n",
       "</table>\n",
       "<p>5 rows × 64 columns</p>\n",
       "</div>"
      ],
      "text/plain": [
       "   0X  0Y  0Z        1X        1Y        1Z        2X        2Y        2Z  \\\n",
       "0   0   0   0 -0.000214 -0.058624 -0.005439  0.019046 -0.107819 -0.014893   \n",
       "1   0   0   0 -0.001391 -0.060643 -0.004128  0.017710 -0.109621 -0.012365   \n",
       "2   0   0   0 -0.001036 -0.059302 -0.004734  0.018886 -0.109079 -0.011933   \n",
       "3   0   0   0 -0.000887 -0.062005 -0.010443  0.019801 -0.115434 -0.019250   \n",
       "4   0   0   0  0.016177 -0.041145 -0.004947  0.030724 -0.071400 -0.017324   \n",
       "\n",
       "         3X  ...       18X       18Y       18Z       19X       19Y       19Z  \\\n",
       "0  0.042369  ...  0.067047 -0.026790 -0.039557  0.051269 -0.022757 -0.033340   \n",
       "1  0.039954  ...  0.063500 -0.028476 -0.043904  0.048176 -0.024836 -0.041285   \n",
       "2  0.040734  ...  0.062321 -0.024297 -0.044743  0.046756 -0.020573 -0.041916   \n",
       "3  0.043068  ...  0.069431 -0.020624 -0.055275  0.050557 -0.015958 -0.054195   \n",
       "4  0.043469  ... -0.034352 -0.105367 -0.035811 -0.031043 -0.110535 -0.034749   \n",
       "\n",
       "        20X       20Y       20Z  Target  \n",
       "0  0.041671 -0.014572 -0.023431       0  \n",
       "1  0.039364 -0.015466 -0.033771       0  \n",
       "2  0.038673 -0.013439 -0.033861       0  \n",
       "3  0.037523 -0.006201 -0.043700       0  \n",
       "4 -0.025041 -0.108211 -0.031372       0  \n",
       "\n",
       "[5 rows x 64 columns]"
      ]
     },
     "execution_count": 2,
     "metadata": {},
     "output_type": "execute_result"
    }
   ],
   "source": [
    "df = pd.read_csv('Dataset/Excel_lift.csv')\n",
    "df.head(5)"
   ]
  },
  {
   "cell_type": "code",
   "execution_count": 3,
   "metadata": {},
   "outputs": [],
   "source": [
    "y_train = df['Target']\n",
    "label_binarizer = LabelBinarizer()\n",
    "y_train = label_binarizer.fit_transform(y_train)"
   ]
  },
  {
   "cell_type": "code",
   "execution_count": 4,
   "metadata": {},
   "outputs": [],
   "source": [
    "del df['Target']\n",
    "del df['0X']\n",
    "del df['0Y']\n",
    "del df['0Z']"
   ]
  },
  {
   "cell_type": "code",
   "execution_count": 5,
   "metadata": {},
   "outputs": [
    {
     "data": {
      "text/plain": [
       "(5252, 60, 1)"
      ]
     },
     "execution_count": 5,
     "metadata": {},
     "output_type": "execute_result"
    }
   ],
   "source": [
    "x = df.values\n",
    "x = np.expand_dims(x,-1)\n",
    "x.shape"
   ]
  },
  {
   "cell_type": "code",
   "execution_count": 6,
   "metadata": {},
   "outputs": [
    {
     "data": {
      "text/plain": [
       "(5252, 14)"
      ]
     },
     "execution_count": 6,
     "metadata": {},
     "output_type": "execute_result"
    }
   ],
   "source": [
    "y = y_train\n",
    "y.shape"
   ]
  },
  {
   "cell_type": "code",
   "execution_count": 7,
   "metadata": {},
   "outputs": [
    {
     "name": "stdout",
     "output_type": "stream",
     "text": [
      "Model: \"sequential_1\"\n",
      "_________________________________________________________________\n",
      "Layer (type)                 Output Shape              Param #   \n",
      "=================================================================\n",
      "conv1d_1 (Conv1D)            (None, 58, 64)            256       \n",
      "_________________________________________________________________\n",
      "conv1d_2 (Conv1D)            (None, 56, 64)            12352     \n",
      "_________________________________________________________________\n",
      "max_pooling1d_1 (MaxPooling1 (None, 28, 64)            0         \n",
      "_________________________________________________________________\n",
      "conv1d_3 (Conv1D)            (None, 26, 128)           24704     \n",
      "_________________________________________________________________\n",
      "conv1d_4 (Conv1D)            (None, 24, 128)           49280     \n",
      "_________________________________________________________________\n",
      "max_pooling1d_2 (MaxPooling1 (None, 12, 128)           0         \n",
      "_________________________________________________________________\n",
      "flatten_1 (Flatten)          (None, 1536)              0         \n",
      "_________________________________________________________________\n",
      "dense_1 (Dense)              (None, 748)               1149676   \n",
      "_________________________________________________________________\n",
      "dense_2 (Dense)              (None, 512)               383488    \n",
      "_________________________________________________________________\n",
      "dense_3 (Dense)              (None, 14)                7182      \n",
      "=================================================================\n",
      "Total params: 1,626,938\n",
      "Trainable params: 1,626,938\n",
      "Non-trainable params: 0\n",
      "_________________________________________________________________\n"
     ]
    }
   ],
   "source": [
    "model = Sequential()\n",
    "\n",
    "model.add(Conv1D(filters=64, kernel_size=3, activation='relu',input_shape=(60,1)))\n",
    "model.add(Conv1D(filters=64, kernel_size=3, activation='relu'))\n",
    "model.add(MaxPooling1D(pool_size=2))\n",
    "model.add(Conv1D(filters=128, kernel_size=3, activation='relu'))\n",
    "model.add(Conv1D(filters=128, kernel_size=3, activation='relu'))\n",
    "model.add(MaxPooling1D(pool_size=2))\n",
    "model.add(Flatten())\n",
    "model.add(Dense(748, activation='relu'))\n",
    "model.add(Dense(512, activation='relu'))\n",
    "model.add(Dense(14, activation='softmax'))\n",
    "model.compile(loss='categorical_crossentropy', optimizer='adam', metrics=['accuracy'])\n",
    "\n",
    "model.summary()"
   ]
  },
  {
   "cell_type": "code",
   "execution_count": 8,
   "metadata": {},
   "outputs": [
    {
     "name": "stdout",
     "output_type": "stream",
     "text": [
      "Train on 5252 samples, validate on 5252 samples\n",
      "Epoch 1/5\n",
      "5252/5252 [==============================] - 5s 987us/step - loss: 1.3411 - accuracy: 0.5661 - val_loss: 0.6472 - val_accuracy: 0.7902\n",
      "Epoch 2/5\n",
      "5252/5252 [==============================] - 5s 923us/step - loss: 0.5404 - accuracy: 0.8229 - val_loss: 0.4696 - val_accuracy: 0.8456\n",
      "Epoch 3/5\n",
      "5252/5252 [==============================] - 4s 703us/step - loss: 0.4358 - accuracy: 0.8528 - val_loss: 0.3955 - val_accuracy: 0.8618\n",
      "Epoch 4/5\n",
      "5252/5252 [==============================] - 4s 740us/step - loss: 0.3896 - accuracy: 0.8629 - val_loss: 0.3386 - val_accuracy: 0.8749\n",
      "Epoch 5/5\n",
      "5252/5252 [==============================] - 4s 706us/step - loss: 0.3708 - accuracy: 0.8690 - val_loss: 0.3784 - val_accuracy: 0.8606\n"
     ]
    }
   ],
   "source": [
    "history = model.fit(x, y,validation_data = (x,y), epochs=5, batch_size=64)"
   ]
  },
  {
   "cell_type": "code",
   "execution_count": 10,
   "metadata": {},
   "outputs": [],
   "source": [
    "model.save(\"curmodel\")"
   ]
  },
  {
   "cell_type": "code",
   "execution_count": null,
   "metadata": {},
   "outputs": [],
   "source": []
  }
 ],
 "metadata": {
  "kernelspec": {
   "display_name": "Python 3",
   "language": "python",
   "name": "python3"
  },
  "language_info": {
   "codemirror_mode": {
    "name": "ipython",
    "version": 3
   },
   "file_extension": ".py",
   "mimetype": "text/x-python",
   "name": "python",
   "nbconvert_exporter": "python",
   "pygments_lexer": "ipython3",
   "version": "3.7.9"
  }
 },
 "nbformat": 4,
 "nbformat_minor": 4
}
